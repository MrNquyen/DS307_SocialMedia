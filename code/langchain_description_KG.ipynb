{
 "cells": [
  {
   "cell_type": "markdown",
   "metadata": {},
   "source": [
    "# **IMPORT**"
   ]
  },
  {
   "cell_type": "code",
   "execution_count": null,
   "metadata": {},
   "outputs": [],
   "source": [
    "from langchain.text_splitter import RecursiveCharacterTextSplitter, CharacterTextSplitter\n",
    "from langchain.vectorstores import FAISS\n",
    "from langchain.embeddings import GPT4AllEmbeddings, OpenAIEmbeddings\n",
    "from langchain.llms import CTransformers\n",
    "from langchain.chains.llm import LLMChain\n",
    "from langchain_community.graphs import Neo4jGraph\n",
    "from langchain.vectorstores.neo4j_vector import Neo4jVector\n",
    "from langchain.chains import RetrievalQA, GraphCypherQAChain\n",
    "from langchain_openai import ChatOpenAI\n",
    "from langchain_google_genai import ChatGoogleGenerativeAI\n",
    "\n",
    "from langchain.prompts import (\n",
    "    PromptTemplate,\n",
    "    SystemMessagePromptTemplate,\n",
    "    HumanMessagePromptTemplate,\n",
    "    ChatPromptTemplate,\n",
    ")\n",
    "\n",
    "from neo4j import GraphDatabase\n",
    "\n",
    "import numpy as np\n",
    "import pandas as pd\n",
    "import getpass\n",
    "import re\n",
    "\n",
    "import json\n",
    "import os\n",
    "import pickle"
   ]
  },
  {
   "cell_type": "markdown",
   "metadata": {},
   "source": [
    "# **FUNCTION**"
   ]
  },
  {
   "cell_type": "code",
   "execution_count": 1,
   "metadata": {},
   "outputs": [],
   "source": [
    "def load_pickle(path):\n",
    "    with open(path, 'rb') as file:\n",
    "        data = pickle.load(file)\n",
    "    return data\n"
   ]
  },
  {
   "cell_type": "code",
   "execution_count": 2,
   "metadata": {},
   "outputs": [
    {
     "name": "stderr",
     "output_type": "stream",
     "text": [
      "<>:14: SyntaxWarning: invalid escape sequence '\\('\n",
      "<>:14: SyntaxWarning: invalid escape sequence '\\('\n",
      "C:\\Users\\ASUS\\AppData\\Local\\Temp\\ipykernel_6948\\1992846485.py:14: SyntaxWarning: invalid escape sequence '\\('\n",
      "  cleaned_text = re.sub('http[s]?://(?:[a-zA-Z]|[0-9]|[$-_@.&+]|[!*\\(\\),]|(?:%[0-9a-fA-F][0-9a-fA-F]))+', '', cleaned_text)\n"
     ]
    }
   ],
   "source": [
    "# Preprocessing data\n",
    "def clean_text(\n",
    "        text,\n",
    "        methods=['rmv_link', 'rmv_punc', 'lower', 'replace_word', 'rmv_space'],\n",
    "        custom_punctuation = '!\"#$%&\\'()*+,-:;<=>?@[\\\\]^_`{|}~”“',\n",
    "        patterns=[],\n",
    "        words_replace=[],\n",
    "        rdrsegmenter=None,\n",
    "    ):\n",
    "    cleaned_text = text\n",
    "    for method in methods:\n",
    "        if method == 'rmv_link':\n",
    "            # Remove link\n",
    "            cleaned_text = re.sub('http[s]?://(?:[a-zA-Z]|[0-9]|[$-_@.&+]|[!*\\(\\),]|(?:%[0-9a-fA-F][0-9a-fA-F]))+', '', cleaned_text)\n",
    "            cleaned_text = \"\".join(cleaned_text)\n",
    "        elif method == 'rmv_punc':\n",
    "            # Remove punctuation\n",
    "            cleaned_text = re.sub('[%s]' % re.escape(custom_punctuation), '' , cleaned_text)\n",
    "        elif method == 'lower':\n",
    "            # Lowercase\n",
    "            cleaned_text = cleaned_text.lower()\n",
    "        elif method == 'replace_word':\n",
    "            # Replace word\n",
    "            for pattern, repl in zip(patterns, words_replace):\n",
    "                cleaned_text = re.sub(pattern, repl, cleaned_text)\n",
    "        elif method == 'rmv_space':\n",
    "            # Remove extra space\n",
    "            cleaned_text = re.sub(' +', ' ', cleaned_text)\n",
    "            cleaned_text = cleaned_text.strip()\n",
    "        elif method == 'segmentation':\n",
    "            if rdrsegmenter is None:\n",
    "                print('No Segmenter found !!')\n",
    "                continue\n",
    "            # Word and cleaned_text segmentation\n",
    "            cleaned_text = rdrsegmenter.word_segment(cleaned_text)\n",
    "            cleaned_text = ' '.join(cleaned_text)\n",
    "\n",
    "    return cleaned_text"
   ]
  },
  {
   "cell_type": "markdown",
   "metadata": {},
   "source": [
    "# **LOAD DATA**"
   ]
  },
  {
   "cell_type": "code",
   "execution_count": null,
   "metadata": {},
   "outputs": [],
   "source": []
  }
 ],
 "metadata": {
  "kernelspec": {
   "display_name": "Python 3",
   "language": "python",
   "name": "python3"
  },
  "language_info": {
   "codemirror_mode": {
    "name": "ipython",
    "version": 3
   },
   "file_extension": ".py",
   "mimetype": "text/x-python",
   "name": "python",
   "nbconvert_exporter": "python",
   "pygments_lexer": "ipython3",
   "version": "3.12.1"
  }
 },
 "nbformat": 4,
 "nbformat_minor": 2
}
