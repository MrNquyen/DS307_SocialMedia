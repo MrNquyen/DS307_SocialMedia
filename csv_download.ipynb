{
 "cells": [
  {
   "cell_type": "code",
   "execution_count": null,
   "metadata": {},
   "outputs": [],
   "source": [
    "import json\n",
    "import os\n",
    "import gdown\n",
    "import pandas as pd"
   ]
  },
  {
   "cell_type": "code",
   "execution_count": 23,
   "metadata": {},
   "outputs": [
    {
     "name": "stderr",
     "output_type": "stream",
     "text": [
      "Retrieving folder contents\n"
     ]
    },
    {
     "name": "stdout",
     "output_type": "stream",
     "text": [
      "Processing file 1MIRF6Vz3wcRWqULSSjN9LdT_OCcLr5Jc game_description_df.csv\n",
      "Processing file 1ObWo5JV8kzIqLsQ1Z4Mvl5LQ7FGGpP7X game_info_df.csv\n",
      "Processing file 1S1al56BRJsKFe7SQVLmauruGsIqDFE9H game_requirement_df.csv\n",
      "Processing file 1ouGtTiSfvFcgtpJjY5DuY858cPmpQ1Jv game_status_df.csv\n",
      "Processing file 1--QALH0kiV_6McaGXIUDdxHFYTmUWznq link_df.csv\n"
     ]
    },
    {
     "name": "stderr",
     "output_type": "stream",
     "text": [
      "Retrieving folder contents completed\n",
      "Building directory structure\n",
      "Building directory structure completed\n",
      "Downloading...\n",
      "From: https://drive.google.com/uc?id=1MIRF6Vz3wcRWqULSSjN9LdT_OCcLr5Jc\n",
      "To: f:\\UNIVERSITY\\UNIVERSITY_DOCUMENTS\\DS307\\langchain_rec\\csv\\game_description_df.csv\n",
      "100%|██████████| 80.0M/80.0M [01:44<00:00, 767kB/s] \n",
      "Downloading...\n",
      "From: https://drive.google.com/uc?id=1ObWo5JV8kzIqLsQ1Z4Mvl5LQ7FGGpP7X\n",
      "To: f:\\UNIVERSITY\\UNIVERSITY_DOCUMENTS\\DS307\\langchain_rec\\csv\\game_info_df.csv\n",
      "100%|██████████| 7.66M/7.66M [00:14<00:00, 532kB/s]\n",
      "Downloading...\n",
      "From: https://drive.google.com/uc?id=1S1al56BRJsKFe7SQVLmauruGsIqDFE9H\n",
      "To: f:\\UNIVERSITY\\UNIVERSITY_DOCUMENTS\\DS307\\langchain_rec\\csv\\game_requirement_df.csv\n",
      "100%|██████████| 8.62M/8.62M [00:03<00:00, 2.57MB/s]\n",
      "Downloading...\n",
      "From: https://drive.google.com/uc?id=1ouGtTiSfvFcgtpJjY5DuY858cPmpQ1Jv\n",
      "To: f:\\UNIVERSITY\\UNIVERSITY_DOCUMENTS\\DS307\\langchain_rec\\csv\\game_status_df.csv\n",
      "100%|██████████| 436k/436k [00:00<00:00, 450kB/s]\n",
      "Downloading...\n",
      "From: https://drive.google.com/uc?id=1--QALH0kiV_6McaGXIUDdxHFYTmUWznq\n",
      "To: f:\\UNIVERSITY\\UNIVERSITY_DOCUMENTS\\DS307\\langchain_rec\\csv\\link_df.csv\n",
      "100%|██████████| 492k/492k [00:00<00:00, 630kB/s]\n",
      "Download completed\n"
     ]
    }
   ],
   "source": [
    "if 'csv' not in os.listdir():\n",
    "    csv_share_link = 'https://drive.google.com/drive/folders/1vt5n5Ca8eOpVInmUUvM_0ROkk5z_6Xsn?usp=sharing'\n",
    "    gdown.download_folder(csv_share_link)"
   ]
  },
  {
   "cell_type": "code",
   "execution_count": 21,
   "metadata": {},
   "outputs": [
    {
     "data": {
      "text/html": [
       "<div>\n",
       "<style scoped>\n",
       "    .dataframe tbody tr th:only-of-type {\n",
       "        vertical-align: middle;\n",
       "    }\n",
       "\n",
       "    .dataframe tbody tr th {\n",
       "        vertical-align: top;\n",
       "    }\n",
       "\n",
       "    .dataframe thead th {\n",
       "        text-align: right;\n",
       "    }\n",
       "</style>\n",
       "<table border=\"1\" class=\"dataframe\">\n",
       "  <thead>\n",
       "    <tr style=\"text-align: right;\">\n",
       "      <th></th>\n",
       "      <th>to</th>\n",
       "    </tr>\n",
       "    <tr>\n",
       "      <th>from</th>\n",
       "      <th></th>\n",
       "    </tr>\n",
       "  </thead>\n",
       "  <tbody>\n",
       "    <tr>\n",
       "      <th>723320</th>\n",
       "      <td>723320</td>\n",
       "    </tr>\n",
       "    <tr>\n",
       "      <th>723380</th>\n",
       "      <td>723380</td>\n",
       "    </tr>\n",
       "    <tr>\n",
       "      <th>723420</th>\n",
       "      <td>723420</td>\n",
       "    </tr>\n",
       "    <tr>\n",
       "      <th>723430</th>\n",
       "      <td>723430</td>\n",
       "    </tr>\n",
       "    <tr>\n",
       "      <th>723460</th>\n",
       "      <td>723460</td>\n",
       "    </tr>\n",
       "    <tr>\n",
       "      <th>...</th>\n",
       "      <td>...</td>\n",
       "    </tr>\n",
       "    <tr>\n",
       "      <th>3122220</th>\n",
       "      <td>3122220</td>\n",
       "    </tr>\n",
       "    <tr>\n",
       "      <th>3122240</th>\n",
       "      <td>3122240</td>\n",
       "    </tr>\n",
       "    <tr>\n",
       "      <th>3122250</th>\n",
       "      <td>3122250</td>\n",
       "    </tr>\n",
       "    <tr>\n",
       "      <th>3122260</th>\n",
       "      <td>3122260</td>\n",
       "    </tr>\n",
       "    <tr>\n",
       "      <th>3122270</th>\n",
       "      <td>3122270</td>\n",
       "    </tr>\n",
       "  </tbody>\n",
       "</table>\n",
       "<p>32632 rows × 1 columns</p>\n",
       "</div>"
      ],
      "text/plain": [
       "              to\n",
       "from            \n",
       "723320    723320\n",
       "723380    723380\n",
       "723420    723420\n",
       "723430    723430\n",
       "723460    723460\n",
       "...          ...\n",
       "3122220  3122220\n",
       "3122240  3122240\n",
       "3122250  3122250\n",
       "3122260  3122260\n",
       "3122270  3122270\n",
       "\n",
       "[32632 rows x 1 columns]"
      ]
     },
     "execution_count": 21,
     "metadata": {},
     "output_type": "execute_result"
    }
   ],
   "source": [
    "link_df = pd.read_csv('csv/link_df.csv')\n",
    "link_df.index = link_df['from'] \n",
    "link_df.drop(['from', 'from.1'], axis=1, inplace=True)\n",
    "link_df"
   ]
  },
  {
   "cell_type": "code",
   "execution_count": 22,
   "metadata": {},
   "outputs": [],
   "source": [
    "link_df.to_csv('csv/link_df.csv')"
   ]
  }
 ],
 "metadata": {
  "kernelspec": {
   "display_name": "Python 3",
   "language": "python",
   "name": "python3"
  },
  "language_info": {
   "codemirror_mode": {
    "name": "ipython",
    "version": 3
   },
   "file_extension": ".py",
   "mimetype": "text/x-python",
   "name": "python",
   "nbconvert_exporter": "python",
   "pygments_lexer": "ipython3",
   "version": "3.12.1"
  }
 },
 "nbformat": 4,
 "nbformat_minor": 2
}
